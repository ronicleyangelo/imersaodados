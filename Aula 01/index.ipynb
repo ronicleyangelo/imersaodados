{
 "cells": [
  {
   "cell_type": "code",
   "execution_count": 12,
   "metadata": {},
   "outputs": [],
   "source": [
    "import pandas as pd\n",
    "url = \"https://gist.githubusercontent.com/tgcsantos/3bdb29eba6ce391e90df2b72205ba891/raw/22fa920e80c9fa209a9fccc8b52d74cc95d1599b/dados_imoveis.csv\"\n",
    "dados = pd.read_csv(url)"
   ]
  },
  {
   "cell_type": "code",
   "execution_count": 13,
   "metadata": {},
   "outputs": [
    {
     "data": {
      "text/html": [
       "<div>\n",
       "<style scoped>\n",
       "    .dataframe tbody tr th:only-of-type {\n",
       "        vertical-align: middle;\n",
       "    }\n",
       "\n",
       "    .dataframe tbody tr th {\n",
       "        vertical-align: top;\n",
       "    }\n",
       "\n",
       "    .dataframe thead th {\n",
       "        text-align: right;\n",
       "    }\n",
       "</style>\n",
       "<table border=\"1\" class=\"dataframe\">\n",
       "  <thead>\n",
       "    <tr style=\"text-align: right;\">\n",
       "      <th></th>\n",
       "      <th>Rua</th>\n",
       "      <th>Bairro</th>\n",
       "      <th>Cidade</th>\n",
       "      <th>Metragem</th>\n",
       "      <th>Quartos</th>\n",
       "      <th>Banheiros</th>\n",
       "      <th>Vagas</th>\n",
       "      <th>Valor</th>\n",
       "    </tr>\n",
       "  </thead>\n",
       "  <tbody>\n",
       "    <tr>\n",
       "      <th>0</th>\n",
       "      <td>Avenida Itacira, 255</td>\n",
       "      <td>Planalto Paulista</td>\n",
       "      <td>São Paulo</td>\n",
       "      <td>1000</td>\n",
       "      <td>4</td>\n",
       "      <td>8</td>\n",
       "      <td>6</td>\n",
       "      <td>R$ 7.000.000</td>\n",
       "    </tr>\n",
       "    <tr>\n",
       "      <th>1</th>\n",
       "      <td>Rua Aurelia Perez Alvarez, 42</td>\n",
       "      <td>Jardim dos Estados</td>\n",
       "      <td>São Paulo</td>\n",
       "      <td>496</td>\n",
       "      <td>4</td>\n",
       "      <td>4</td>\n",
       "      <td>4</td>\n",
       "      <td>R$ 3.700.000</td>\n",
       "    </tr>\n",
       "    <tr>\n",
       "      <th>2</th>\n",
       "      <td>Rua Alba Valdez</td>\n",
       "      <td>Jardim Reimberg</td>\n",
       "      <td>São Paulo</td>\n",
       "      <td>125</td>\n",
       "      <td>4</td>\n",
       "      <td>3</td>\n",
       "      <td>2</td>\n",
       "      <td>R$ 380.000</td>\n",
       "    </tr>\n",
       "    <tr>\n",
       "      <th>3</th>\n",
       "      <td>NaN</td>\n",
       "      <td>Jardim Morumbi</td>\n",
       "      <td>São Paulo</td>\n",
       "      <td>310</td>\n",
       "      <td>3</td>\n",
       "      <td>2</td>\n",
       "      <td>4</td>\n",
       "      <td>R$ 685.000</td>\n",
       "    </tr>\n",
       "    <tr>\n",
       "      <th>4</th>\n",
       "      <td>Rua Tobias Barreto, 195</td>\n",
       "      <td>Mooca</td>\n",
       "      <td>São Paulo</td>\n",
       "      <td>100</td>\n",
       "      <td>3</td>\n",
       "      <td>2</td>\n",
       "      <td>2</td>\n",
       "      <td>R$ 540.000</td>\n",
       "    </tr>\n",
       "  </tbody>\n",
       "</table>\n",
       "</div>"
      ],
      "text/plain": [
       "                              Rua              Bairro     Cidade  Metragem  \\\n",
       "0           Avenida Itacira, 255    Planalto Paulista  São Paulo      1000   \n",
       "1  Rua Aurelia Perez Alvarez, 42   Jardim dos Estados  São Paulo       496   \n",
       "2                 Rua Alba Valdez     Jardim Reimberg  São Paulo       125   \n",
       "3                             NaN      Jardim Morumbi  São Paulo       310   \n",
       "4        Rua Tobias Barreto, 195                Mooca  São Paulo       100   \n",
       "\n",
       "   Quartos  Banheiros  Vagas         Valor  \n",
       "0        4          8      6  R$ 7.000.000  \n",
       "1        4          4      4  R$ 3.700.000  \n",
       "2        4          3      2    R$ 380.000  \n",
       "3        3          2      4    R$ 685.000  \n",
       "4        3          2      2    R$ 540.000  "
      ]
     },
     "execution_count": 13,
     "metadata": {},
     "output_type": "execute_result"
    }
   ],
   "source": [
    "dados.head()"
   ]
  },
  {
   "cell_type": "code",
   "execution_count": 19,
   "metadata": {},
   "outputs": [
    {
     "data": {
      "text/html": [
       "<div>\n",
       "<style scoped>\n",
       "    .dataframe tbody tr th:only-of-type {\n",
       "        vertical-align: middle;\n",
       "    }\n",
       "\n",
       "    .dataframe tbody tr th {\n",
       "        vertical-align: top;\n",
       "    }\n",
       "\n",
       "    .dataframe thead th {\n",
       "        text-align: right;\n",
       "    }\n",
       "</style>\n",
       "<table border=\"1\" class=\"dataframe\">\n",
       "  <thead>\n",
       "    <tr style=\"text-align: right;\">\n",
       "      <th></th>\n",
       "      <th>Rua</th>\n",
       "      <th>Bairro</th>\n",
       "      <th>Cidade</th>\n",
       "      <th>Metragem</th>\n",
       "      <th>Quartos</th>\n",
       "      <th>Banheiros</th>\n",
       "      <th>Vagas</th>\n",
       "      <th>Valor</th>\n",
       "    </tr>\n",
       "  </thead>\n",
       "  <tbody>\n",
       "    <tr>\n",
       "      <th>6225</th>\n",
       "      <td>NaN</td>\n",
       "      <td>Jabaquara</td>\n",
       "      <td>São Paulo</td>\n",
       "      <td>117</td>\n",
       "      <td>3</td>\n",
       "      <td>2</td>\n",
       "      <td>1</td>\n",
       "      <td>R$ 719.000</td>\n",
       "    </tr>\n",
       "    <tr>\n",
       "      <th>570</th>\n",
       "      <td>Rua França</td>\n",
       "      <td>Jardim Europa</td>\n",
       "      <td>São Paulo</td>\n",
       "      <td>620</td>\n",
       "      <td>4</td>\n",
       "      <td>3</td>\n",
       "      <td>6</td>\n",
       "      <td>R$ 8.980.000</td>\n",
       "    </tr>\n",
       "    <tr>\n",
       "      <th>4341</th>\n",
       "      <td>Rua Eugênio Falk</td>\n",
       "      <td>Saúde</td>\n",
       "      <td>São Paulo</td>\n",
       "      <td>100</td>\n",
       "      <td>2</td>\n",
       "      <td>1</td>\n",
       "      <td>2</td>\n",
       "      <td>R$ 480.000</td>\n",
       "    </tr>\n",
       "    <tr>\n",
       "      <th>7986</th>\n",
       "      <td>Rua Filipe de Lorenzo</td>\n",
       "      <td>Vila Isolina Mazzei</td>\n",
       "      <td>São Paulo</td>\n",
       "      <td>160</td>\n",
       "      <td>3</td>\n",
       "      <td>2</td>\n",
       "      <td>3</td>\n",
       "      <td>R$ 580.000</td>\n",
       "    </tr>\n",
       "    <tr>\n",
       "      <th>705</th>\n",
       "      <td>Rua Pacobá</td>\n",
       "      <td>Jardim Panorama</td>\n",
       "      <td>São Paulo</td>\n",
       "      <td>639</td>\n",
       "      <td>4</td>\n",
       "      <td>6</td>\n",
       "      <td>4</td>\n",
       "      <td>R$ 3.500.000</td>\n",
       "    </tr>\n",
       "    <tr>\n",
       "      <th>2670</th>\n",
       "      <td>NaN</td>\n",
       "      <td>Jardim Guedala</td>\n",
       "      <td>São Paulo</td>\n",
       "      <td>681</td>\n",
       "      <td>2</td>\n",
       "      <td>3</td>\n",
       "      <td>6</td>\n",
       "      <td>R$ 2.300.000</td>\n",
       "    </tr>\n",
       "    <tr>\n",
       "      <th>4923</th>\n",
       "      <td>Avenida Lins de Vasconcelos</td>\n",
       "      <td>Cambuci</td>\n",
       "      <td>São Paulo</td>\n",
       "      <td>198</td>\n",
       "      <td>3</td>\n",
       "      <td>2</td>\n",
       "      <td>6</td>\n",
       "      <td>R$ 950.000</td>\n",
       "    </tr>\n",
       "    <tr>\n",
       "      <th>3416</th>\n",
       "      <td>Rua Doutor Fausto de Almeida Prado Penteado, 302</td>\n",
       "      <td>Jardim Sílvia (Zona Oeste)</td>\n",
       "      <td>São Paulo</td>\n",
       "      <td>1643</td>\n",
       "      <td>4</td>\n",
       "      <td>4</td>\n",
       "      <td>5</td>\n",
       "      <td>R$ 3.800.000</td>\n",
       "    </tr>\n",
       "    <tr>\n",
       "      <th>9434</th>\n",
       "      <td>Rua Camundo</td>\n",
       "      <td>Planalto Paulista</td>\n",
       "      <td>São Paulo</td>\n",
       "      <td>155</td>\n",
       "      <td>3</td>\n",
       "      <td>4</td>\n",
       "      <td>3</td>\n",
       "      <td>R$ 770.000</td>\n",
       "    </tr>\n",
       "    <tr>\n",
       "      <th>4155</th>\n",
       "      <td>Rua Doutor David Campista</td>\n",
       "      <td>Jardim Paulista</td>\n",
       "      <td>São Paulo</td>\n",
       "      <td>340</td>\n",
       "      <td>3</td>\n",
       "      <td>2</td>\n",
       "      <td>3</td>\n",
       "      <td>R$ 3.300.000</td>\n",
       "    </tr>\n",
       "  </tbody>\n",
       "</table>\n",
       "</div>"
      ],
      "text/plain": [
       "                                                    Rua  \\\n",
       "6225                                                NaN   \n",
       "570                                          Rua França   \n",
       "4341                                   Rua Eugênio Falk   \n",
       "7986                              Rua Filipe de Lorenzo   \n",
       "705                                          Rua Pacobá   \n",
       "2670                                                NaN   \n",
       "4923                        Avenida Lins de Vasconcelos   \n",
       "3416  Rua Doutor Fausto de Almeida Prado Penteado, 302    \n",
       "9434                                        Rua Camundo   \n",
       "4155                          Rua Doutor David Campista   \n",
       "\n",
       "                          Bairro     Cidade  Metragem  Quartos  Banheiros  \\\n",
       "6225                   Jabaquara  São Paulo       117        3          2   \n",
       "570                Jardim Europa  São Paulo       620        4          3   \n",
       "4341                       Saúde  São Paulo       100        2          1   \n",
       "7986         Vila Isolina Mazzei  São Paulo       160        3          2   \n",
       "705              Jardim Panorama  São Paulo       639        4          6   \n",
       "2670              Jardim Guedala  São Paulo       681        2          3   \n",
       "4923                     Cambuci  São Paulo       198        3          2   \n",
       "3416  Jardim Sílvia (Zona Oeste)  São Paulo      1643        4          4   \n",
       "9434           Planalto Paulista  São Paulo       155        3          4   \n",
       "4155             Jardim Paulista  São Paulo       340        3          2   \n",
       "\n",
       "      Vagas         Valor  \n",
       "6225      1    R$ 719.000  \n",
       "570       6  R$ 8.980.000  \n",
       "4341      2    R$ 480.000  \n",
       "7986      3    R$ 580.000  \n",
       "705       4  R$ 3.500.000  \n",
       "2670      6  R$ 2.300.000  \n",
       "4923      6    R$ 950.000  \n",
       "3416      5  R$ 3.800.000  \n",
       "9434      3    R$ 770.000  \n",
       "4155      3  R$ 3.300.000  "
      ]
     },
     "execution_count": 19,
     "metadata": {},
     "output_type": "execute_result"
    }
   ],
   "source": [
    "dados.sample(10)"
   ]
  },
  {
   "cell_type": "code",
   "execution_count": 26,
   "metadata": {},
   "outputs": [
    {
     "name": "stdout",
     "output_type": "stream",
     "text": [
      "<class 'pandas.core.frame.DataFrame'>\n",
      "RangeIndex: 10008 entries, 0 to 10007\n",
      "Data columns (total 8 columns):\n",
      " #   Column     Non-Null Count  Dtype \n",
      "---  ------     --------------  ----- \n",
      " 0   Rua        6574 non-null   object\n",
      " 1   Bairro     9996 non-null   object\n",
      " 2   Cidade     10008 non-null  object\n",
      " 3   Metragem   10008 non-null  int64 \n",
      " 4   Quartos    10008 non-null  int64 \n",
      " 5   Banheiros  10008 non-null  int64 \n",
      " 6   Vagas      10008 non-null  int64 \n",
      " 7   Valor      10008 non-null  object\n",
      "dtypes: int64(4), object(4)\n",
      "memory usage: 625.6+ KB\n"
     ]
    }
   ],
   "source": [
    "dados.info()"
   ]
  },
  {
   "cell_type": "code",
   "execution_count": 28,
   "metadata": {},
   "outputs": [
    {
     "data": {
      "text/plain": [
       "'Jardim Sílvia (Zona Oeste)'"
      ]
     },
     "execution_count": 28,
     "metadata": {},
     "output_type": "execute_result"
    }
   ],
   "source": [
    "dados[\"Bairro\"][3416]"
   ]
  },
  {
   "cell_type": "code",
   "execution_count": 32,
   "metadata": {},
   "outputs": [
    {
     "data": {
      "text/plain": [
       "442.30065947242207"
      ]
     },
     "execution_count": 32,
     "metadata": {},
     "output_type": "execute_result"
    }
   ],
   "source": [
    "dados[\"Metragem\"].mean()"
   ]
  },
  {
   "cell_type": "code",
   "execution_count": 34,
   "metadata": {},
   "outputs": [
    {
     "data": {
      "text/plain": [
       "31"
      ]
     },
     "execution_count": 34,
     "metadata": {},
     "output_type": "execute_result"
    }
   ],
   "source": [
    "sum ((dados[\"Bairro\"] == \"Jardim Sílvia (Zona Oeste)\"))"
   ]
  },
  {
   "cell_type": "code",
   "execution_count": 42,
   "metadata": {},
   "outputs": [
    {
     "data": {
      "text/plain": [
       "False"
      ]
     },
     "execution_count": 42,
     "metadata": {},
     "output_type": "execute_result"
    }
   ],
   "source": [
    "dados.index.is_object()"
   ]
  }
 ],
 "metadata": {
  "interpreter": {
   "hash": "158f4e28b2b5514d8b4093286e3785a35bbb518546a0f295e10cf416c1078dd6"
  },
  "kernelspec": {
   "display_name": "Python 3.10.4 64-bit",
   "language": "python",
   "name": "python3"
  },
  "language_info": {
   "codemirror_mode": {
    "name": "ipython",
    "version": 3
   },
   "file_extension": ".py",
   "mimetype": "text/x-python",
   "name": "python",
   "nbconvert_exporter": "python",
   "pygments_lexer": "ipython3",
   "version": "3.10.4"
  },
  "orig_nbformat": 4
 },
 "nbformat": 4,
 "nbformat_minor": 2
}
